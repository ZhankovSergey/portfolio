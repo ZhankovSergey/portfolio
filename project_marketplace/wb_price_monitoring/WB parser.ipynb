{
 "cells": [
  {
   "cell_type": "code",
   "execution_count": null,
   "id": "b0281382",
   "metadata": {},
   "outputs": [],
   "source": [
    "import sys\n",
    "sys.path.append('C:\\\\python_modules')\n",
    "import monitor_tools_wb, bf_creds\n",
    "from monitor_tools_resources import brand_variations_dict\n",
    "from monitor_tools_resources import name_similarity_both_true, name_similarity_both_true_several_words, name_similarity_both_true_exact_words\n",
    "\n",
    "from random import randint\n",
    "import requests\n",
    "import json\n",
    "import pandas as pd\n",
    "from bs4 import BeautifulSoup\n",
    "from bs4 import UnicodeDammit\n",
    "import pickle\n",
    "import re\n",
    "import numpy as np\n",
    "from time import sleep\n",
    "from datetime import date\n",
    "\n",
    "from selenium import webdriver\n",
    "from selenium.webdriver.common.action_chains import ActionChains\n",
    "from selenium.webdriver.common.by import By\n",
    "from selenium.webdriver.support.ui import WebDriverWait\n",
    "from selenium.webdriver.support import expected_conditions as EC\n",
    "from selenium.webdriver.common.keys import Keys\n",
    "\n",
    "from sqlalchemy import create_engine, text\n",
    "from sqlalchemy.types import Integer, Text, DateTime, Float, Date\n",
    "\n",
    "chrome_driver_path = 'C:\\chromedriver_win32\\chromedriver.exe'\n",
    "\n",
    "pd.set_option('display.max_columns', None)"
   ]
  },
  {
   "cell_type": "markdown",
   "id": "aa335b33",
   "metadata": {},
   "source": [
    "## Получение информации по нашим товарам в наличии (airflow)"
   ]
  },
  {
   "cell_type": "code",
   "execution_count": null,
   "id": "3864fd01",
   "metadata": {},
   "outputs": [],
   "source": [
    "%%time\n",
    "# получение нашего стока из базы\n",
    "sql_query = '''\n",
    "                SELECT\n",
    "                    \"nmId\" AS nm_id,\n",
    "                    article AS article\n",
    "                FROM wb_products_info\n",
    "                WHERE stock > 0\n",
    "            '''\n",
    "\n",
    "engine = create_engine(bf_creds.postgre_user_engine, echo=True)\n",
    "try:\n",
    "    our_stock = pd.read_sql(sql_query, con=engine)\n",
    "finally:\n",
    "    engine.dispose()\n",
    "\n",
    "our_stock['url'] = 'https://www.wildberries.ru/catalog/' + our_stock.nm_id + '/detail.aspx'\n",
    "\n",
    "our_stock_with_price = monitor_tools_wb.parse_product_cards_data(our_stock, chrome_driver_path, param_json_src=True)\n",
    "\n",
    "our_stock_with_price_and_json_data = monitor_tools_wb.parse_product_cards_data_json(our_stock_with_price)\n",
    "\n",
    "with open('wb_files/pkl/wb_our_stock_data.pkl', 'wb') as file:\n",
    "    pickle.dump(our_stock_with_price_and_json_data, file)"
   ]
  },
  {
   "cell_type": "markdown",
   "id": "716b28e5",
   "metadata": {},
   "source": [
    "## Получение списка товаров по списку урлов категорий (airflow)"
   ]
  },
  {
   "cell_type": "code",
   "execution_count": null,
   "id": "17e67a12",
   "metadata": {},
   "outputs": [],
   "source": [
    "wb_category_url_list = [\n",
    "            'https://www.wildberries.ru/catalog/sport/sportivnoe-pitanie?sort=popular&page=1',\n",
    "            'https://www.wildberries.ru/catalog/pitanie/napitki?sort=popular&page=1&xsubject=3382%3B3441',\n",
    "            'https://www.wildberries.ru/catalog/pitanie/sneki?sort=popular&page=1&xsubject=3014',\n",
    "            'https://www.wildberries.ru/catalog/pitanie/sladosti/shokolad-i-shokoladnye-batonchiki?sort=popular&page=1&xsubject=2878',\n",
    "            'https://www.wildberries.ru/catalog/pitanie/sladosti/shokolad-i-shokoladnye-batonchiki?sort=popular&page=1&xsubject=3568',\n",
    "            'https://www.wildberries.ru/catalog/produkty/dobavki-pishchevye?sort=popular&page=1',\n",
    "            'https://www.wildberries.ru/catalog/produkty/sladosti/orehi?sort=popular&page=1&xsubject=3407',\n",
    "            'https://www.wildberries.ru/catalog/produkty/sladosti/pasty?sort=popular&page=1',\n",
    "            'https://www.wildberries.ru/catalog/dom-i-dacha/zdorove/vitaminy-i-bady?sort=popular&page=1',\n",
    "            'https://www.wildberries.ru/catalog/zdorove/lechebnoe-pitanie-?sort=popular&page=1'\n",
    "]\n",
    "\n",
    "prod_list = monitor_tools_wb.get_product_list_from_cat_pages(wb_category_url_list, chrome_driver_path, 14000)\n",
    "\n",
    "with open('wb_files/pkl/wb_prod_list.pkl', 'wb') as file:\n",
    "    pickle.dump(prod_list, file)"
   ]
  },
  {
   "cell_type": "markdown",
   "id": "4280f23a",
   "metadata": {},
   "source": [
    "## Получение информации из джейсонов карточек товара (airflow)"
   ]
  },
  {
   "cell_type": "code",
   "execution_count": null,
   "id": "0064fd14",
   "metadata": {},
   "outputs": [],
   "source": [
    "%%time\n",
    "\n",
    "with open('wb_files/pkl/wb_prod_list.pkl', 'rb') as file: \n",
    "    prod_list = pickle.load(file)\n",
    "    \n",
    "prod_list_with_json_data = monitor_tools_wb.parse_product_cards_data_json(prod_list)\n",
    "\n",
    "with open('wb_files/pkl/wb_prod_list_data.pkl', 'wb') as file:\n",
    "    pickle.dump(prod_list_with_json_data, file)"
   ]
  },
  {
   "cell_type": "markdown",
   "id": "d07efe01",
   "metadata": {},
   "source": [
    "# Сопоставление"
   ]
  },
  {
   "cell_type": "markdown",
   "id": "8114c847",
   "metadata": {},
   "source": [
    "#### Функции для задачи"
   ]
  },
  {
   "cell_type": "code",
   "execution_count": null,
   "id": "71a0b6ef",
   "metadata": {},
   "outputs": [],
   "source": [
    "# функция для перевода строковых значений разного формати в int\n",
    "def to_int(x):\n",
    "    formatted_value = re.sub(\"\\..*\", \"\", x)\n",
    "    formatted_value = re.sub(\"\\/.*\", \"\", formatted_value)\n",
    "    formatted_value = re.sub(\"[^0-9]\", \"\", formatted_value)\n",
    "    \n",
    "    if formatted_value == '':\n",
    "        return 0\n",
    "\n",
    "    return int(formatted_value)"
   ]
  },
  {
   "cell_type": "markdown",
   "id": "3d01e766",
   "metadata": {},
   "source": [
    "#### Загрузка данных"
   ]
  },
  {
   "cell_type": "code",
   "execution_count": null,
   "id": "68bce2e1",
   "metadata": {
    "scrolled": true
   },
   "outputs": [],
   "source": [
    "with open('wb_files/pkl/wb_prod_list_data.pkl', 'rb') as file: \n",
    "    data_wb = pickle.load(file)\n",
    "    \n",
    "with open('wb_files/pkl/wb_our_stock_data.pkl', 'rb') as file: \n",
    "    data_our = pickle.load(file)\n",
    "    \n",
    "data_our = data_our[data_our['price_with_disc'] > 0]\n",
    "data_our.reset_index(inplace=True)\n",
    "data_our.drop(columns=['index'], inplace=True)\n",
    "    \n",
    "print(data_wb.shape, data_our.shape)"
   ]
  },
  {
   "cell_type": "markdown",
   "id": "722da127",
   "metadata": {},
   "source": [
    "#### Предобработка"
   ]
  },
  {
   "cell_type": "code",
   "execution_count": null,
   "id": "ed935ca5",
   "metadata": {},
   "outputs": [],
   "source": [
    "%%time\n",
    "\n",
    "engine = create_engine(bf_creds.postgre_user_engine, echo=True)\n",
    "\n",
    "# удаление из data_wb товаров, которые уже на мониторинге\n",
    "query = '''\n",
    "            SELECT id\n",
    "            FROM monitor_mp_prices\n",
    "        '''\n",
    "ids_in_monitoring = pd.read_sql(query, con=engine)\n",
    "data_wb.drop(data_wb[data_wb.nm_id.isin(ids_in_monitoring.id)].index, inplace=True)\n",
    "\n",
    "# удаление наших товаров из списка товаров конкурентов\n",
    "data_wb.drop(data_wb[data_wb.nm_id.isin(data_our.nm_id)].index, inplace=True)\n",
    "\n",
    "# замена nan пустую строку\n",
    "columns_with_str_nan = ['selling.brand_name', 'Страна производства', 'Вкус']\n",
    "for col_name in columns_with_str_nan:\n",
    "    data_our[col_name].fillna('', inplace=True)\n",
    "    data_wb[col_name].fillna('', inplace=True)\n",
    "\n",
    "# дроп строк, где не хватает важных данных\n",
    "data_our.dropna(subset=['imt_name'], inplace=True)\n",
    "data_wb.dropna(subset=['imt_name'], inplace=True)\n",
    "\n",
    "# замена ; на , (это для нормального отображения данных в csv)\n",
    "for column in ['Вкус', 'imt_name']:\n",
    "    data_our[column] = data_our[column].apply(lambda x: x.replace(';', ','))\n",
    "    data_wb[column] = data_wb[column].apply(lambda x: x.replace(';', ','))\n",
    "\n",
    "# приведение названий брендов к единому формату (используется словарь определенный ранее)\n",
    "for key in brand_variations_dict:\n",
    "    for name in brand_variations_dict[key]:\n",
    "        data_our['selling.brand_name'] = data_our['selling.brand_name'].apply(lambda x: x.replace(name, key) if x == name else x)\n",
    "        data_wb['selling.brand_name'] = data_wb['selling.brand_name'].apply(lambda x: x.replace(name, key) if x == name else x)\n",
    "\n",
    "data_wb['selling.brand_name'] = data_wb['selling.brand_name'].apply(lambda x: 'California Gold Nutrition' if 'California Gold' in x else x)\n",
    "        \n",
    "# приведение данных в колонках важных для сопоставления к единому числовому формату с помощью ранее написанной функции to_int (оставляет в колонках только цифры, если цифр нет, то 0)\n",
    "search_columns = ['Количество предметов в упаковке', \n",
    "                  'Вес товара с упаковкой (г)',\n",
    "                  'Вес товара без упаковки (г)',\n",
    "                  'Ширина упаковки',\n",
    "                  'Высота упаковки',\n",
    "                  'Глубина упаковки',\n",
    "                  'Пищевая ценность белки',\n",
    "                  'Пищевая ценность жиры',\n",
    "                  'Пищевая ценность углеводы',\n",
    "                  'Энергетическая ценность калории (на 100 гр.)']\n",
    "\n",
    "for col_name in search_columns:\n",
    "    if col_name in data_our.columns:\n",
    "        data_our[col_name].fillna('0', inplace=True)\n",
    "        data_our[col_name] = data_our[col_name].apply(to_int)\n",
    "        \n",
    "    if col_name in data_wb.columns:\n",
    "        data_wb[col_name].fillna('0', inplace=True)\n",
    "        data_wb[col_name] = data_wb[col_name].apply(to_int)\n",
    "        \n",
    "engine.dispose()"
   ]
  },
  {
   "cell_type": "markdown",
   "id": "d443c5cd",
   "metadata": {},
   "source": [
    "#### Сопоставление"
   ]
  },
  {
   "cell_type": "code",
   "execution_count": null,
   "id": "c2ada5aa",
   "metadata": {},
   "outputs": [],
   "source": [
    "%%time\n",
    "\n",
    "# удаление из wb_data колонок, которые не будут участвовать в сопоставлении\n",
    "search_lake = data_wb[['nm_id', \n",
    "                       'imt_name',\n",
    "                       'selling.brand_name',\n",
    "                       'price_with_disc',\n",
    "                       'Количество предметов в упаковке',\n",
    "                       'Вкус',\n",
    "                       'url']]\n",
    "\n",
    "# первый этап - сопоставление товаров по параметрам\n",
    "results_1 = pd.DataFrame()\n",
    "\n",
    "for i in range(data_our.shape[0]):\n",
    "    \n",
    "    # фильтр по бренду\n",
    "    search_pool = search_lake[search_lake['selling.brand_name'] == data_our.iloc[i]['selling.brand_name']]\n",
    "    \n",
    "    # фильтр по количеству в упаковке\n",
    "    if data_our.iloc[i]['Количество предметов в упаковке'] != 0:\n",
    "        search_pool = search_pool[(search_pool['Количество предметов в упаковке'] == data_our.iloc[i]['Количество предметов в упаковке']) \n",
    "                                  | (search_pool['Количество предметов в упаковке'] == 0)]\n",
    "    \n",
    "    # фильтр по цене (+-30% и еще сверху +-50 рублей, чтобы нормально учитывать разницу у товаров с низкими ценами)\n",
    "    if data_our.iloc[i]['price_with_disc'] != 0:\n",
    "        search_pool = search_pool[(search_pool['price_with_disc'] <= (int(data_our.iloc[i]['price_with_disc'] * 1.3) + 50)) & \n",
    "                                  (search_pool['price_with_disc'] >= (int(data_our.iloc[i]['price_with_disc'] * 0.7) - 50))]\n",
    "\n",
    "    # добавление к каждой строке нашего соответствующего товара и присоединение к результирующему датасету\n",
    "    search_pool['our_article'] = data_our.iloc[i]['article']\n",
    "    search_pool['our_nm_id'] = data_our.iloc[i]['nm_id']\n",
    "    search_pool['our_url'] = data_our.iloc[i]['url']\n",
    "    search_pool['our_name'] = data_our.iloc[i]['imt_name']\n",
    "    search_pool['our_price'] = data_our.iloc[i]['price_with_disc']\n",
    "\n",
    "    results_1 = results_1.append(search_pool)\n",
    "    results_1.reset_index(inplace=True)\n",
    "    results_1.drop(columns='index', inplace=True)\n",
    "    \n",
    "print(results_1.shape)"
   ]
  },
  {
   "cell_type": "code",
   "execution_count": null,
   "id": "24f8caae",
   "metadata": {},
   "outputs": [],
   "source": [
    "results_1"
   ]
  },
  {
   "cell_type": "code",
   "execution_count": null,
   "id": "acec7cd6",
   "metadata": {},
   "outputs": [],
   "source": [
    "%%time\n",
    "# удаление тех пар, которые уже сопоставлялись до этого\n",
    "\n",
    "engine = create_engine(bf_creds.postgre_user_engine)\n",
    "query = '''\n",
    "            SELECT DISTINCT(CONCAT(our_nm_id,nm_id)) as concat_ids\n",
    "            FROM monitor_wb_already_compared_pairs\n",
    "        '''\n",
    "already_compared = pd.read_sql(query, con=engine)\n",
    "engine.dispose()\n",
    "\n",
    "concat_ids_lst = list(already_compared.concat_ids)\n",
    "\n",
    "results_1['already_compared'] = results_1.apply(lambda x: True if (x['our_nm_id'] + x['nm_id']) in concat_ids_lst else False, axis=1)\n",
    "results_1 = results_1[results_1['already_compared']==False]\n",
    "\n",
    "results_1.reset_index(inplace=True)\n",
    "results_1.drop(columns='index', inplace=True)"
   ]
  },
  {
   "cell_type": "code",
   "execution_count": null,
   "id": "ed1b7325",
   "metadata": {},
   "outputs": [],
   "source": [
    "%%time\n",
    "\n",
    "# второй этап фильтрации - текстовые фильтры\n",
    "results_1['name_similarity_index'] = 0\n",
    "results_1['searchable_name'] = False\n",
    "\n",
    "for i in range(results_1.shape[0]):\n",
    "    searchable_name = False\n",
    "    similarity_index = 0\n",
    "    \n",
    "    # по точному вхождению слов в оба названия\n",
    "    for sublist in name_similarity_both_true_exact_words:\n",
    "        our_name_contains = any((word in re.sub(\"[^А-Яа-яA-za-z0-9 ]\", \" \", results_1['our_name'][i]).lower().split() for word in sublist))\n",
    "        comp_name_contains = any((word in re.sub(\"[^А-Яа-яA-za-z0-9 ]\", \" \", results_1['imt_name'][i]).lower().split() for word in sublist))\n",
    "\n",
    "        if our_name_contains:\n",
    "            searchable_name = True\n",
    "        if our_name_contains and comp_name_contains:\n",
    "            similarity_index += 1\n",
    "            break\n",
    "                \n",
    "    # по вхождениям подстрок в оба названия\n",
    "    if similarity_index == 0:\n",
    "        for sublist in name_similarity_both_true:\n",
    "            our_name_contains = any((word in results_1['our_name'][i].lower() for word in sublist))\n",
    "            comp_name_contains = any((word in results_1['imt_name'][i].lower() for word in sublist))\n",
    "\n",
    "            if our_name_contains:\n",
    "                searchable_name = True\n",
    "            if our_name_contains and comp_name_contains:\n",
    "                similarity_index += 1\n",
    "                break\n",
    "            \n",
    "    # по вхождениям комбинации подстрок в оба названия (для названий, где не нашлось)\n",
    "    if similarity_index == 0:  \n",
    "        for sublist in name_similarity_both_true_several_words:\n",
    "            if similarity_index:\n",
    "                break\n",
    "\n",
    "            our_name_contains = False\n",
    "            comp_name_contains = False\n",
    "\n",
    "            for words_list in sublist:\n",
    "                if not our_name_contains:\n",
    "                    if all([word in results_1['our_name'][i].lower() for word in words_list]):\n",
    "                        our_name_contains = True\n",
    "                        searchable_name = True\n",
    "                if not comp_name_contains:\n",
    "                    if all([word in results_1['imt_name'][i].lower() for word in words_list]):\n",
    "                        comp_name_contains = True  \n",
    "                if our_name_contains and comp_name_contains:\n",
    "                    similarity_index += 1\n",
    "                    break\n",
    "                    \n",
    "    # присвоение результирующего индекса похожести и того есть ли в нашем названии вообще вхождения поисковых слов из списков                  \n",
    "    results_1['name_similarity_index'][i] = similarity_index\n",
    "    results_1['searchable_name'][i] = searchable_name\n",
    "    \n",
    "results_2 = results_1[(results_1['searchable_name'] == False) | \n",
    "                      ((results_1['searchable_name'] == True) & (results_1['name_similarity_index'] > 0))]"
   ]
  },
  {
   "cell_type": "code",
   "execution_count": null,
   "id": "b6c014d8",
   "metadata": {},
   "outputs": [],
   "source": [
    "# датафрейм с товарами, которые отсеял фильтр (для проверки корректности его работы)\n",
    "results_2_false = results_1[((results_1['searchable_name'] == True) & (results_1['name_similarity_index'] == 0))]"
   ]
  },
  {
   "cell_type": "code",
   "execution_count": null,
   "id": "7269d195",
   "metadata": {},
   "outputs": [],
   "source": [
    "results_2_false"
   ]
  },
  {
   "cell_type": "code",
   "execution_count": null,
   "id": "843c7d99",
   "metadata": {},
   "outputs": [],
   "source": [
    "# сохранение в csv (для финальной ручной сверки)\n",
    "results_2[['our_article',\n",
    "            'our_nm_id',\n",
    "            'our_name',\n",
    "            'our_price',\n",
    "            'our_url',\n",
    "            'nm_id',\n",
    "            'imt_name',\n",
    "            'Количество предметов в упаковке',\n",
    "            'Вкус',\n",
    "            'price_with_disc',\n",
    "            'url',\n",
    "            'selling.brand_name',\n",
    "            'name_similarity_index',\n",
    "            'searchable_name']].to_csv('wb_files/csv/results_2.csv', encoding='utf-8-sig', sep='|', index=False)"
   ]
  },
  {
   "cell_type": "code",
   "execution_count": null,
   "id": "c358eec3",
   "metadata": {},
   "outputs": [],
   "source": [
    "results_2_false[['our_article',\n",
    "                'our_nm_id',\n",
    "                'our_name',\n",
    "                'our_price',\n",
    "                'our_url',\n",
    "                'nm_id',\n",
    "                'imt_name',\n",
    "                'Количество предметов в упаковке',\n",
    "                'Вкус',\n",
    "                'price_with_disc',\n",
    "                'url',\n",
    "                'selling.brand_name',\n",
    "                'name_similarity_index',\n",
    "                'searchable_name']].to_csv('wb_files/csv/results_2_false.csv', encoding='utf-8-sig', sep='|', index=False)"
   ]
  },
  {
   "cell_type": "markdown",
   "id": "6bb79a3d",
   "metadata": {},
   "source": [
    "## Загрузка результатов ручной сверки в бд с предварительным обновлением цены и продавца"
   ]
  },
  {
   "cell_type": "code",
   "execution_count": null,
   "id": "32ff0124",
   "metadata": {},
   "outputs": [],
   "source": [
    "# загрузка эксель файла с результатами сверки\n",
    "search_results_final = pd.read_excel('wb_files/wb_search_results_final.xlsx', dtype={'our_article': 'str',\n",
    "                                                                            'our_nm_id': 'str',\n",
    "                                                                            'nm_id': 'str'})\n",
    "\n",
    "search_results_final = search_results_final[['our_article', 'our_nm_id', 'our_name', 'our_price', 'our_url', 'nm_id', 'imt_name', 'price_with_disc', 'url']]\n",
    "\n",
    "search_results_final['mp'] = 'WB'\n",
    "\n",
    "search_results_final.rename(columns={'nm_id': 'id', \n",
    "                                     'our_nm_id': 'our_id',\n",
    "                                     'imt_name': 'name'}, inplace=True)\n",
    "\n",
    "# актуализация цены товаров\n",
    "search_results_final_with_seller = monitor_tools_wb.parse_product_cards_data(search_results_final, \n",
    "                                                                             chrome_driver_path, \n",
    "                                                                             param_seller_name=True)\n",
    "\n",
    "# загрузка в таблицу в бд, которая используется для bi\n",
    "engine = create_engine(bf_creds.postgre_user_engine)\n",
    "\n",
    "search_results_final_with_seller.to_sql(\n",
    "         'monitor_mp_prices',\n",
    "         engine,\n",
    "         if_exists='append',\n",
    "         index=False)\n",
    "\n",
    "engine.dispose()"
   ]
  },
  {
   "cell_type": "markdown",
   "id": "dc26eef2",
   "metadata": {},
   "source": [
    "## Загрузка в бд пар id товаров, которые уже были сопоставлены"
   ]
  },
  {
   "cell_type": "code",
   "execution_count": null,
   "id": "0cbdf660",
   "metadata": {},
   "outputs": [],
   "source": [
    "# в отдельную эксельку из файла, в котором проводилась сверка, выносятся два столбца: наш id товара и id товара конкурента, который скрипт сопоставления ему сопоставил\n",
    "# эти пары загружаются в базу данных, чтобы при следующей сверке их не учитывать\n",
    "\n",
    "#### тут надо переписать, чтобы дата добавлялась в колонку \"added_at\"\n",
    "\n",
    "already_compared_pairs = pd.read_excel('wb_files/wb_already_compared_pairs.xlsx', dtype={'our_nm_id': 'str', 'nm_id': 'str'})\n",
    "already_compared_pairs['added_at'] = date.today()\n",
    "\n",
    "engine = create_engine(bf_creds.postgre_user_engine, echo=True)\n",
    "\n",
    "already_compared_pairs.to_sql(\n",
    "         'monitor_wb_already_compared_pairs',\n",
    "         engine,\n",
    "         if_exists='append',\n",
    "         index=False)\n",
    "\n",
    "engine.dispose()"
   ]
  },
  {
   "cell_type": "code",
   "execution_count": null,
   "id": "dfc313ec",
   "metadata": {},
   "outputs": [],
   "source": []
  }
 ],
 "metadata": {
  "kernelspec": {
   "display_name": "Python 3 (ipykernel)",
   "language": "python",
   "name": "python3"
  },
  "language_info": {
   "codemirror_mode": {
    "name": "ipython",
    "version": 3
   },
   "file_extension": ".py",
   "mimetype": "text/x-python",
   "name": "python",
   "nbconvert_exporter": "python",
   "pygments_lexer": "ipython3",
   "version": "3.9.7"
  }
 },
 "nbformat": 4,
 "nbformat_minor": 5
}
